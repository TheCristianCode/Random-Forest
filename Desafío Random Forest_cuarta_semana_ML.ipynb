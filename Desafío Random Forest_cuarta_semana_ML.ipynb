{
 "cells": [
  {
   "cell_type": "code",
   "execution_count": null,
   "metadata": {},
   "outputs": [],
   "source": [
    "Nombre: Cristian Valdés Encina\n",
    "\n",
    "Generación: G42\n",
    "\n",
    "Profesores: heriberto García - Juan Pablo Ramírez\n",
    "    \n",
    "Desafío: Random Forest"
   ]
  },
  {
   "cell_type": "code",
   "execution_count": null,
   "metadata": {},
   "outputs": [],
   "source": [
    "Requerimientos\n",
    "\n",
    "● Para esta sesión trabajaremos con una base de datos sobre los precios de inmuebles en\n",
    "la ciudad de Ames, Iowa. La base se compone de 2930 registros y contiene un gran\n",
    "número de atributos.\n",
    "\n",
    "● Nuestro objetivo es generar un modelo que prediga de forma adecuada los precios de\n",
    "inmuebles, medidos con la variable Sale_Price .\n",
    "\n",
    "● A diferencia de otras sesiones donde implementamos el preprocesamiento a mano,\n",
    "ahora haremos uso de los archivos serializados en la sesión pasada"
   ]
  },
  {
   "cell_type": "code",
   "execution_count": null,
   "metadata": {},
   "outputs": [],
   "source": [
    "#DESAFÍO 1#\n",
    "#---------------------------------------------------------------------------------------#\n",
    "\n",
    "Ejercicio 1: Preparación del ambiente de trabajo\n",
    "    \n",
    "● Importe las librerías clásicas a utilizar.\n",
    "\n",
    "● Para este ejercicio Random Forest de Regresión\n",
    "\n",
    "● De manera adicional importe las funciones y clases necesarias para generar un\n",
    "desempeño de métricas en problemas de regresión.\n",
    "\n",
    "● Elimine la columna 'Unnamed: 0' cuando cargue los datos."
   ]
  },
  {
   "cell_type": "code",
   "execution_count": 189,
   "metadata": {},
   "outputs": [],
   "source": [
    "#librerías manipulación de datos y gráficos\n",
    "import pandas as pd\n",
    "import numpy as np\n",
    "from IPython.display import set_matplotlib_formats\n",
    "from IPython.display import Image\n",
    "import matplotlib.pyplot as plt\n",
    "import seaborn as sns\n",
    "from scipy import stats\n",
    "\n",
    "#librerías modelamiento de los datos \n",
    "from sklearn.tree import DecisionTreeRegressor\n",
    "from sklearn.tree import DecisionTreeClassifier\n",
    "from sklearn.model_selection import GridSearchCV\n",
    "from sklearn.model_selection import train_test_split\n",
    "from sklearn.preprocessing import StandardScaler\n",
    "import statsmodels.formula.api as smf\n",
    "from sklearn.metrics import mean_squared_error, median_absolute_error, r2_score\n",
    "import warnings\n",
    "warnings.filterwarnings(action=\"ignore\")\n",
    "plt.style.use('ggplot')\n",
    "plt.rcParams['figure.figsize'] = ( 10 , 6 )"
   ]
  },
  {
   "cell_type": "code",
   "execution_count": null,
   "metadata": {},
   "outputs": [],
   "source": [
    "#DESAFÍO 2#\n",
    "#---------------------------------------------------------------------------------------#\n",
    "\n",
    "Ejercicio 2: Importación de archivos serializados\n",
    "    \n",
    "● Importe su modelo entrenado y sus conjuntos de entrenamiento y validación\n",
    "serializados la sesión pasada y evalúe el desempeño del modelo de su compañero con\n",
    "el suyo ¿Cuál es mejor? Si no puede ejecutar el modelo, comente cuáles pueden ser los\n",
    "causantes.\n",
    "\n",
    "● No es necesario que realice diagnósticos gráficos sobre el modelo, sólo reporte sus\n",
    "métricas.\n",
    "\n",
    "● Para importar un archivo serializado, puede ocupar la siguiente línea de código:\n",
    "    \n",
    "import pickle\n",
    "read_model = pickle.load(open( \"ignacio-soto-act07.sav\" , \"rb\" ))"
   ]
  },
  {
   "cell_type": "markdown",
   "metadata": {},
   "source": [
    "# Importe de mis archivos"
   ]
  },
  {
   "cell_type": "code",
   "execution_count": 190,
   "metadata": {},
   "outputs": [],
   "source": [
    "import pickle"
   ]
  },
  {
   "cell_type": "code",
   "execution_count": 191,
   "metadata": {},
   "outputs": [],
   "source": [
    "import_model = pickle.load(open( \"cristian-valdes-model_3-actividad07.sav\", \"rb\"))"
   ]
  },
  {
   "cell_type": "code",
   "execution_count": 192,
   "metadata": {},
   "outputs": [],
   "source": [
    "import_model_X_train = pickle.load(open(\"cristian-valdes-X_train_2-actividad07.sav\", \"rb\"))"
   ]
  },
  {
   "cell_type": "code",
   "execution_count": 193,
   "metadata": {},
   "outputs": [],
   "source": [
    "import_model_y_train = pickle.load(open(\"cristian-valdes-y_train_2-actividad07.sav\", \"rb\"))"
   ]
  },
  {
   "cell_type": "code",
   "execution_count": 194,
   "metadata": {},
   "outputs": [],
   "source": [
    "import_model_X_test = pickle.load(open(\"cristian-valdes-X_test_2-actividad07.sav\", \"rb\"))"
   ]
  },
  {
   "cell_type": "code",
   "execution_count": 195,
   "metadata": {},
   "outputs": [],
   "source": [
    "import_model_y_test = pickle.load(open(\"cristian-valdes-y_test_2-actividad07.sav\", \"rb\"))"
   ]
  },
  {
   "cell_type": "markdown",
   "metadata": {},
   "source": [
    "# Importo archivos de Diego "
   ]
  },
  {
   "cell_type": "code",
   "execution_count": 196,
   "metadata": {},
   "outputs": [],
   "source": [
    "import_model_diego = pickle.load(open(\"diego-silva-model_final-actividad07.sav\", \"rb\" ))"
   ]
  },
  {
   "cell_type": "code",
   "execution_count": 197,
   "metadata": {},
   "outputs": [],
   "source": [
    "import_model_X_train_d = pickle.load(open('diego-silva-X_train_10-actividad07.sav', 'rb'))"
   ]
  },
  {
   "cell_type": "code",
   "execution_count": 198,
   "metadata": {},
   "outputs": [],
   "source": [
    "import_model_y_train_d = pickle.load(open('diego-silva-y_train_10-actividad07.sav', 'rb'))"
   ]
  },
  {
   "cell_type": "code",
   "execution_count": 199,
   "metadata": {},
   "outputs": [],
   "source": [
    "import_model_X_test_d = pickle.load(open('diego-silva-X_test_10-actividad07.sav', 'rb'))"
   ]
  },
  {
   "cell_type": "code",
   "execution_count": 200,
   "metadata": {},
   "outputs": [],
   "source": [
    "import_model_y_test_d = pickle.load(open('diego-silva-y_test_10-actividad07.sav', 'rb'))"
   ]
  },
  {
   "cell_type": "code",
   "execution_count": 201,
   "metadata": {},
   "outputs": [],
   "source": [
    "def metric_regression(model, X_test, y_test):\n",
    "    y_hat_c = model.predict(X_test)\n",
    "    \n",
    "    print( \"Test MSE:\" , mean_squared_error(y_hat_c, y_test).round(3))\n",
    "\n",
    "    print( \"Test MAE:\" , median_absolute_error(y_hat_c, y_test).round(3))\n",
    "\n",
    "    print( \"Test R2:\" , r2_score(y_test, y_hat_c).round(3))"
   ]
  },
  {
   "cell_type": "code",
   "execution_count": 202,
   "metadata": {},
   "outputs": [
    {
     "name": "stdout",
     "output_type": "stream",
     "text": [
      "Test MSE: 2263764500.587\n",
      "Test MAE: 25104.835\n",
      "Test R2: 0.602\n"
     ]
    }
   ],
   "source": [
    " metric_regression(import_model, import_model_X_test, import_model_y_test)"
   ]
  },
  {
   "cell_type": "markdown",
   "metadata": {},
   "source": [
    "# Métricas modelo Diego"
   ]
  },
  {
   "cell_type": "code",
   "execution_count": 203,
   "metadata": {},
   "outputs": [
    {
     "name": "stdout",
     "output_type": "stream",
     "text": [
      "Test MSE: 1442075874.897\n",
      "Test MAE: 16795.267\n",
      "Test R2: 0.781\n"
     ]
    }
   ],
   "source": [
    " metric_regression(import_model_diego, import_model_X_test_d, import_model_y_test_d)"
   ]
  },
  {
   "cell_type": "markdown",
   "metadata": {},
   "source": [
    "Comentario: De acuerdo con los valores obtenidos: MSE, MAE y R2 presenta mejores resultados en el modelo de Diego. Lo anterior, se podría explicar en las columnas que utilizó para discriminar en el top 10 de los atributos y tambien en los hiperparámetros que obtuvo a través del DecisionTreeRegressor, los que seguramente optimizaron el modelo mejor que los mios."
   ]
  },
  {
   "cell_type": "code",
   "execution_count": null,
   "metadata": {},
   "outputs": [],
   "source": [
    "#DESAFÍO 3#\n",
    "#---------------------------------------------------------------------------------------#\n",
    "Ejercicio 3: Evaluación Random Forest    \n",
    "    \n",
    "● En base a los conjuntos de entrenamiento serializados, genere un modelo utilizando\n",
    "sklearn.ensemble.RandomForest sin modificar hiper parámetros, sólo declarando la\n",
    "semilla pseudoaleatoria.\n",
    "\n",
    "● Reporte su desempeño y compárelo con su modelo de la sesión pasada, así como con\n",
    "el de su compañero."
   ]
  },
  {
   "cell_type": "code",
   "execution_count": 204,
   "metadata": {},
   "outputs": [],
   "source": [
    "from sklearn.ensemble import RandomForestRegressor"
   ]
  },
  {
   "cell_type": "markdown",
   "metadata": {},
   "source": [
    "# Mis archivos serializados"
   ]
  },
  {
   "cell_type": "code",
   "execution_count": 205,
   "metadata": {},
   "outputs": [],
   "source": [
    "prices_Ames_rf = RandomForestRegressor(random_state= 11238 ).fit(import_model_X_train, import_model_y_train)"
   ]
  },
  {
   "cell_type": "code",
   "execution_count": 206,
   "metadata": {},
   "outputs": [
    {
     "name": "stdout",
     "output_type": "stream",
     "text": [
      "Test MSE: 1009560070.998\n",
      "Test MAE: 12166.0\n",
      "Test R2: 0.822\n"
     ]
    }
   ],
   "source": [
    " metric_regreesion(prices_Ames_rf, import_model_X_test, import_model_y_test)"
   ]
  },
  {
   "cell_type": "markdown",
   "metadata": {},
   "source": [
    "# Archivos del modelo Diego\n"
   ]
  },
  {
   "cell_type": "code",
   "execution_count": 207,
   "metadata": {},
   "outputs": [],
   "source": [
    "prices_Ames_rf_d = RandomForestRegressor(random_state= 11238 ).fit(import_model_X_train_d, import_model_y_train_d)"
   ]
  },
  {
   "cell_type": "code",
   "execution_count": 208,
   "metadata": {},
   "outputs": [
    {
     "name": "stdout",
     "output_type": "stream",
     "text": [
      "Test MSE: 931938116.919\n",
      "Test MAE: 12853.86\n",
      "Test R2: 0.859\n"
     ]
    }
   ],
   "source": [
    " metric_regreesion(prices_Ames_rf_d, import_model_X_test_d, import_model_y_test_d)"
   ]
  },
  {
   "cell_type": "markdown",
   "metadata": {},
   "source": [
    "Comentario: Mi modelo inicial presentaba presentaba un MSE de 2.263.764.500, con RandomForest alcanzó un valor de 1.009.560.070 representando una variación en la mejora del modelo en más de un 55%, el MAE presenta un comportamiento similar.El R2, aumento más de un 22% alcanzando un 0.822. Al compararlo con el modelo de Diego, el mejor continúa siendo el de él, pero las diferencias se redujeron considerablemente: la diferencia entre los MSE es de alrededor de 70 millones, el MAE de mi modelo presenta mejor valor (inferior en unos 700). Por último el R2 de Diego, es superior al de mi modelo pero solo en un 4%, muy distinto a la diferencia de ambos modelos iniciales, con alrededor de un 18%."
   ]
  },
  {
   "cell_type": "code",
   "execution_count": 88,
   "metadata": {},
   "outputs": [
    {
     "data": {
      "text/plain": [
       "0.5540348521235314"
      ]
     },
     "execution_count": 88,
     "metadata": {},
     "output_type": "execute_result"
    }
   ],
   "source": [
    "(2263764500-1009560070)/2263764500"
   ]
  },
  {
   "cell_type": "code",
   "execution_count": null,
   "metadata": {},
   "outputs": [],
   "source": [
    "#DESAFÍO 4#\n",
    "#---------------------------------------------------------------------------------------#\n",
    "Ejercicio 4: Reporte las métricas de desempeño\n",
    "    \n",
    "● Para afinar el comportamiento de nuestro modelo, evalúe su desempeño los siguientes\n",
    "hiper parámetros:\n",
    "    \n",
    "○ max_features : None , log2 , sqrt .\n",
    "○ n_estimators : Evaluar entre 20 y 1000 en pasos de 50.\n",
    "    \n",
    "● Guarde la tasa de error en la exactitud medida con OOB.\n",
    "\n",
    "● Grafique el comportamiento."
   ]
  },
  {
   "cell_type": "code",
   "execution_count": 209,
   "metadata": {},
   "outputs": [],
   "source": [
    "n_estimators= range(20,1000,50)"
   ]
  },
  {
   "cell_type": "code",
   "execution_count": null,
   "metadata": {},
   "outputs": [],
   "source": [
    "parametros = n_estimators"
   ]
  },
  {
   "cell_type": "code",
   "execution_count": 210,
   "metadata": {},
   "outputs": [],
   "source": [
    "ames_oob_none, ames_oob_sqrt, ames_oob_log2 = [], [], []"
   ]
  },
  {
   "cell_type": "code",
   "execution_count": 211,
   "metadata": {},
   "outputs": [],
   "source": [
    "for i in n_estimators:\n",
    "    prices_ames_rf_none = RandomForestRegressor(n_estimators=i,\n",
    "                                                max_features=None,\n",
    "                                                oob_score=True,\n",
    "                                                n_jobs= -1,\n",
    "                                                random_state= 11238 ).fit(import_model_X_train, import_model_y_train)\n",
    "    prices_ames_rf_sqrt = RandomForestRegressor(n_estimators= i,\n",
    "                                                 max_features= \"sqrt\" ,\n",
    "                                                 oob_score= True ,\n",
    "                                                 random_state= 11238 ).fit(import_model_X_train, import_model_y_train)\n",
    "\n",
    "# Implementamos una variante donde los atributos se escogen con log\n",
    "    prices_ames_rf_log2  = RandomForestRegressor(n_estimators= i,\n",
    "                                                  max_features= \"log2\" ,\n",
    "                                                  oob_score= True ,\n",
    "                                                  random_state= 11238 ).fit(import_model_X_train, import_model_y_train)\n",
    "# Estimamos el error en OOB\n",
    "    ames_oob_none.append( 1 -  prices_ames_rf_none.oob_score_)\n",
    "    ames_oob_sqrt.append( 1 -  prices_ames_rf_sqrt.oob_score_)\n",
    "    ames_oob_log2.append( 1 -  prices_ames_rf_log2.oob_score_)\n",
    "    \n",
    "    "
   ]
  },
  {
   "cell_type": "code",
   "execution_count": 212,
   "metadata": {},
   "outputs": [
    {
     "data": {
      "text/plain": [
       "<Figure size 864x288 with 0 Axes>"
      ]
     },
     "metadata": {},
     "output_type": "display_data"
    },
    {
     "data": {
      "image/png": "[encoded data removed]",
      "text/plain": [
       "<Figure size 720x432 with 3 Axes>"
      ]
     },
     "metadata": {},
     "output_type": "display_data"
    }
   ],
   "source": [
    "plt.figure(figsize=( 12 , 4 ));\n",
    "\n",
    "fig, axs = plt.subplots( 1 , 3 , sharex= True , sharey= True );\n",
    "\n",
    "axs[ 0 ].plot( ames_oob_log2, '.-' , label= 'OOB error rate' );\n",
    "\n",
    "axs[ 0 ].set_title( 'Log2' );\n",
    "\n",
    "axs[ 1 ].plot(ames_oob_sqrt, '.-' , label= 'OOB error rate' );\n",
    "\n",
    "axs[ 1 ].set_title( 'Squared Root' );\n",
    "\n",
    "axs[ 2 ].plot(ames_oob_none, '.-' , label= 'OOB error rate' );\n",
    "\n",
    "axs[ 2 ].set_title( 'None' );\n",
    "\n",
    "plt.tight_layout();\n",
    "plt.legend(loc ='center left' , bbox_to_anchor=( 1 , .5 ));"
   ]
  },
  {
   "cell_type": "markdown",
   "metadata": {},
   "source": [
    "# Visualización de la tasa de error variando el hiperparámetro max_features"
   ]
  },
  {
   "cell_type": "code",
   "execution_count": 213,
   "metadata": {},
   "outputs": [
    {
     "data": {
      "text/plain": [
       "[0.17505837898303644,\n",
       " 0.15837597932877268,\n",
       " 0.15939877990526452,\n",
       " 0.15804275127378276,\n",
       " 0.1581741886778547,\n",
       " 0.15664469656634106,\n",
       " 0.1571820798795821,\n",
       " 0.15707442650028736,\n",
       " 0.1574876990851264,\n",
       " 0.15661635122872486,\n",
       " 0.15713461129680084,\n",
       " 0.1570749761744792,\n",
       " 0.15657558220588919,\n",
       " 0.15627282652600416,\n",
       " 0.15644738176164563,\n",
       " 0.1568129067305022,\n",
       " 0.15690339636092143,\n",
       " 0.15684526300722046,\n",
       " 0.1568558318081641,\n",
       " 0.15676217689659122]"
      ]
     },
     "execution_count": 213,
     "metadata": {},
     "output_type": "execute_result"
    }
   ],
   "source": [
    " ames_oob_none"
   ]
  },
  {
   "cell_type": "code",
   "execution_count": 214,
   "metadata": {},
   "outputs": [
    {
     "data": {
      "text/plain": [
       "[0.16537180243719318,\n",
       " 0.1395328729592087,\n",
       " 0.13703482604529393,\n",
       " 0.1372421592148625,\n",
       " 0.13801501185890697,\n",
       " 0.13808872410923922,\n",
       " 0.1390582035458866,\n",
       " 0.13969628676375756,\n",
       " 0.1392565765238456,\n",
       " 0.1398629979492907,\n",
       " 0.13985892904326658,\n",
       " 0.13989822244818706,\n",
       " 0.13925452547901462,\n",
       " 0.1394831141845967,\n",
       " 0.13980099890675657,\n",
       " 0.13982363610693604,\n",
       " 0.13956576727761993,\n",
       " 0.13951306720846346,\n",
       " 0.1396659932378873,\n",
       " 0.13992927088776785]"
      ]
     },
     "execution_count": 214,
     "metadata": {},
     "output_type": "execute_result"
    }
   ],
   "source": [
    "  ames_oob_sqrt"
   ]
  },
  {
   "cell_type": "code",
   "execution_count": 215,
   "metadata": {},
   "outputs": [
    {
     "data": {
      "text/plain": [
       "[0.16537180243719318,\n",
       " 0.1395328729592087,\n",
       " 0.13703482604529393,\n",
       " 0.1372421592148625,\n",
       " 0.13801501185890697,\n",
       " 0.13808872410923922,\n",
       " 0.1390582035458866,\n",
       " 0.13969628676375756,\n",
       " 0.1392565765238456,\n",
       " 0.1398629979492907,\n",
       " 0.13985892904326658,\n",
       " 0.13989822244818706,\n",
       " 0.13925452547901462,\n",
       " 0.1394831141845967,\n",
       " 0.13980099890675657,\n",
       " 0.13982363610693604,\n",
       " 0.13956576727761993,\n",
       " 0.13951306720846346,\n",
       " 0.1396659932378873,\n",
       " 0.13992927088776785]"
      ]
     },
     "execution_count": 215,
     "metadata": {},
     "output_type": "execute_result"
    }
   ],
   "source": [
    "ames_oob_log2"
   ]
  },
  {
   "cell_type": "markdown",
   "metadata": {},
   "source": [
    "Comentario: De acuerdo a los arrays anteriores, es posible determinar que la tasa de error OOB cuando el hiperparámetro \"max_features\" corresponde a sqrt y log2 presentan los mismos valores comenzando en un 0.165 hasta un 0.14 aprox. Cuando el hiperparámetro es \"none\" la tasa de error presenta valores cercanos y constantes en un rango de 0.175 a 0.157, no obstante la tasa de error OBB tanto en \"sqrt\" como el \"log2\" tiende a converger a valores menores, alcanzando un 0.137 mientras \"none\" presenta como valor mínimo un 0.157. Recordemos que OBB registra el efecto predictivo de cada modelo dentro del ensamble en la muestra, que no fue incluida dentro del bootstrap, por lo que a mayores valores, mejor será el valor predicho por el modelo\n",
    "y menor su tasa de error OOB."
   ]
  },
  {
   "cell_type": "code",
   "execution_count": 221,
   "metadata": {},
   "outputs": [
    {
     "data": {
      "text/plain": [
       "RandomForestRegressor(max_features='log2', n_estimators=970, oob_score=True,\n",
       "                      random_state=11238)"
      ]
     },
     "execution_count": 221,
     "metadata": {},
     "output_type": "execute_result"
    }
   ],
   "source": [
    "prices_ames_rf_log2"
   ]
  },
  {
   "cell_type": "code",
   "execution_count": null,
   "metadata": {},
   "outputs": [],
   "source": [
    "#DESAFÍO 5#\n",
    "#---------------------------------------------------------------------------------------#\n",
    "Ejercicio 5: Refactoriza el modelo\n",
    "    \n",
    "● En base a la mejor combinación de hiperparámetros, reentrene el modelo y comente su\n",
    "desempeño."
   ]
  },
  {
   "cell_type": "markdown",
   "metadata": {},
   "source": [
    "# Mejor n-estimators es donde alcanza un mínimo correspondiente a 120 estimadores"
   ]
  },
  {
   "cell_type": "code",
   "execution_count": 216,
   "metadata": {},
   "outputs": [],
   "source": [
    "prices_ames_rf_sqrt = RandomForestRegressor(n_estimators= 120,\n",
    "                                            max_features= \"sqrt\" ,\n",
    "                                            oob_score= True ,\n",
    "                                            random_state= 11238 ).fit(import_model_X_train, import_model_y_train)"
   ]
  },
  {
   "cell_type": "code",
   "execution_count": 217,
   "metadata": {},
   "outputs": [
    {
     "data": {
      "text/plain": [
       "RandomForestRegressor(max_features='sqrt', n_estimators=120, oob_score=True,\n",
       "                      random_state=11238)"
      ]
     },
     "execution_count": 217,
     "metadata": {},
     "output_type": "execute_result"
    }
   ],
   "source": [
    "prices_ames_rf_sqrt"
   ]
  },
  {
   "cell_type": "markdown",
   "metadata": {},
   "source": [
    "# Mi modelo con los mejores Hiperparámetros"
   ]
  },
  {
   "cell_type": "code",
   "execution_count": 218,
   "metadata": {},
   "outputs": [
    {
     "name": "stdout",
     "output_type": "stream",
     "text": [
      "Test MSE: 908368935.486\n",
      "Test MAE: 12442.983\n",
      "Test R2: 0.84\n"
     ]
    }
   ],
   "source": [
    " metric_regreesion(prices_ames_rf_sqrt, import_model_X_test, import_model_y_test)"
   ]
  },
  {
   "cell_type": "code",
   "execution_count": null,
   "metadata": {},
   "outputs": [],
   "source": [
    "\n",
    "Modelo sin modif.hiperparámetros   Modelo con mejores hiperparámetros\n",
    "\n",
    "Test MSE: 1009560070.998           Test MSE: 908368935.486\n",
    "Test MAE: 12166.0                  Test MAE: 12442.983\n",
    "Test R2:  0.822                    Test R2:  0.84\n",
    "                         \n",
    "Es posible obervar que al incorporar los mejores hiperparámetros al modelo, este es capaz de predecir con un MSE optimizado en un 10% respecto al modelo sin modificaciones. El valor de MAE empeora en un valor de 320 aprox, mientras que el R2 aumenta un 2%."
   ]
  },
  {
   "cell_type": "code",
   "execution_count": 223,
   "metadata": {},
   "outputs": [
    {
     "data": {
      "text/plain": [
       "10.023290185394085"
      ]
     },
     "execution_count": 223,
     "metadata": {},
     "output_type": "execute_result"
    }
   ],
   "source": [
    "((1009560070.998- 908368935.486)/1009560070.998)*100"
   ]
  },
  {
   "cell_type": "code",
   "execution_count": null,
   "metadata": {},
   "outputs": [],
   "source": []
  }
 ],
 "metadata": {
  "kernelspec": {
   "display_name": "Python 3",
   "language": "python",
   "name": "python3"
  },
  "language_info": {
   "codemirror_mode": {
    "name": "ipython",
    "version": 3
   },
   "file_extension": ".py",
   "mimetype": "text/x-python",
   "name": "python",
   "nbconvert_exporter": "python",
   "pygments_lexer": "ipython3",
   "version": "3.8.5"
  }
 },
 "nbformat": 4,
 "nbformat_minor": 4
}
